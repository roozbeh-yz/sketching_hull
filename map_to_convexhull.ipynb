{
  "nbformat": 4,
  "nbformat_minor": 0,
  "metadata": {
    "colab": {
      "provenance": []
    },
    "kernelspec": {
      "name": "python3",
      "display_name": "Python 3"
    },
    "language_info": {
      "name": "python"
    },
    "gpuClass": "standard"
  },
  "cells": [
    {
      "cell_type": "code",
      "source": [
        "import torch\n",
        "torch.manual_seed(0)\n",
        "import cvxpy as cp\n",
        "import numpy as np\n",
        "print(cp.installed_solvers())"
      ],
      "metadata": {
        "colab": {
          "base_uri": "https://localhost:8080/"
        },
        "id": "ww3ohzhcKKAz",
        "outputId": "0e5d17c0-81c2-4dc5-bf22-ebaa0da29e52"
      },
      "execution_count": 1,
      "outputs": [
        {
          "output_type": "stream",
          "name": "stdout",
          "text": [
            "['CVXOPT', 'ECOS', 'ECOS_BB', 'GLPK', 'GLPK_MI', 'OSQP', 'SCIPY', 'SCS']\n"
          ]
        }
      ]
    },
    {
      "cell_type": "code",
      "source": [
        "# function to project a point q to the convex hull of D\n",
        "def map_to_hull(D,q,x0,tol=1e-5):\n",
        "  m,n = D.shape\n",
        "  alpha = cp.Variable(m)\n",
        "  objective = cp.Minimize(cp.sum_squares(alpha @ D - q))\n",
        "  constraints = [0 <= alpha, cp.sum(alpha) == 1]\n",
        "  prob = cp.Problem(objective, constraints)\n",
        "\n",
        "  alpha.value = x0\n",
        "  result = prob.solve(verbose=False, solver=cp.ECOS, warm_start=True, abstol=tol, feastol=tol, reltol=tol)\n",
        "\n",
        "  alpha.value[alpha.value<0] = 0\n",
        "  xp = torch.tensor(alpha.value).float() @ D\n",
        "  dist = torch.linalg.norm(torch.tensor(q)-xp)\n",
        "  return xp, dist, alpha.value"
      ],
      "metadata": {
        "id": "R6OzA5KGjsX8"
      },
      "execution_count": 13,
      "outputs": []
    },
    {
      "cell_type": "code",
      "source": [
        "## Projection Operator\n",
        "def projection(x,l,u):\n",
        "  return np.maximum(np.minimum(x,u),l)\n",
        "\n",
        "## Gradient Projection Operator\n",
        "def gp(p,t1,t_bar):\n",
        "  p[t_bar<=t1]=0\n",
        "  return p\n",
        "\n",
        "## tfinder Operator\n",
        "def tfinder(t1,t2,p,c,D,x):\n",
        "  f1 = c@p + (x@D) @ (np.transpose(D)@p)\n",
        "  f2 = p@D @ (np.transpose(D) @ p)\n",
        "  if f1>0:\n",
        "    t = t1 # case 1\n",
        "  elif -f1/f2>=0 and -f1/f2 < t2-t1:\n",
        "    t = t1 - f1/f2 # case 2\n",
        "  else:\n",
        "    t = t2 # case 3\n",
        "  return t\n",
        "\n",
        "## KKT and residual\n",
        "def kkt(x,D,c,l,u):\n",
        "  temp=(D @ (np.transpose(D) @ x) + c)\n",
        "  tolx = 1e-8\n",
        "  # active = np.nonzero(x<tolx)\n",
        "  # inactive = np.nonzero(x>tolx)\n",
        "  sl = x-l # slack l\n",
        "  yl = temp*1\n",
        "  # yl[sl>tolx] = 0\n",
        "  # yl[yl<0] = 0\n",
        "  se = np.sum(x) - 1\n",
        "  if np.abs(se)>tol:\n",
        "    ye = 0\n",
        "  else:\n",
        "    ye = np.max(temp - yl)\n",
        "  v = 0\n",
        "  sl[sl==np.inf] = 1e5\n",
        "  ##                           feasibility                                          complimentary                                      stationary                                             duality\n",
        "  res = np.linalg.norm(np.minimum(sl,0))+np.linalg.norm(np.sum(x)-1)  +  np.linalg.norm(sl*yl)+np.linalg.norm(se*ye)  +  np.linalg.norm(D@(np.transpose(D)@x)+c-yl-ye)  +  np.linalg.norm(np.minimum(yl,0))+np.linalg.norm(np.minimum(ye,0))\n",
        "\n",
        "  if res==0:\n",
        "    v = 1 # KKT satistied\n",
        "\n",
        "  return v, res, yl, ye"
      ],
      "metadata": {
        "id": "Lnv-oMLivf0x"
      },
      "execution_count": 4,
      "outputs": []
    },
    {
      "cell_type": "code",
      "source": [
        "## QP function\n",
        "def bqp_pg(c,D,l,u,x0,maxit,ssm,printlevel,tol,tolx,q):\n",
        "  n = len(c)\n",
        "  iter = 0\n",
        "  x = projection(x0,l,u)\n",
        "  stat = 1\n",
        "  res = 10*tol\n",
        "  obj = 0\n",
        "  zl = []\n",
        "  zu = zl\n",
        "\n",
        "  # Functions\n",
        "  def qf(z):\n",
        "    return 0.5*z@D@np.transpose(D)@z + c@z\n",
        "  def grad(z):\n",
        "    return D@(np.transpose(D)@z) + c\n",
        "  # g = @(z) (D*D'*z+c)./sum(D*D'*z+c)-1/n; % normalizing the gradient - not helpful\n",
        "  if printlevel == 1:\n",
        "    print(\"     iter  ,   obj  ,   residual \");\n",
        "\n",
        "  while iter <= maxit:\n",
        "    k,res,zl,zu = kkt(x,D,c,l,u)\n",
        "    obj = qf(x)\n",
        "    x_prev = x*1\n",
        "    ## print\n",
        "    if printlevel == 1:\n",
        "      print(iter,\"-\",obj,\"-\",res)\n",
        "    # KKT conditions\n",
        "    if k==1:\n",
        "      stat=0;\n",
        "      print('KKT satisfied')\n",
        "      break\n",
        "    ## Residual tolerance\n",
        "    if res<tol:\n",
        "      stat=0\n",
        "      print('residual satisfied',res)\n",
        "      break\n",
        "    ## Cauchy step\n",
        "    t_bar = np.inf*(np.abs(x)+0.001)\n",
        "    gg = grad(x)\n",
        "    t1 = (x-u)/gg\n",
        "    t2 = (x-l)/gg\n",
        "    for i in range(n):\n",
        "      if gg[i]<0 and u[i]<np.inf:\n",
        "        t_bar[i] = t1[i]\n",
        "      elif gg[i]>0 and u[i]>-np.inf:\n",
        "        t_bar[i] = t2[i]\n",
        "      else:\n",
        "        t_bar[i+1] = np.inf\n",
        "    t_sort = np.unique(t_bar[t_bar!=0])\n",
        "    p = -1*gg\n",
        "    t1 = 0\n",
        "    xc = x\n",
        "    for i in range(len(t_sort)):\n",
        "      t2 = t_sort[i]\n",
        "      p = gp(p,t1,t_bar)\n",
        "      t = tfinder(t1,t2,p,c,D,xc)\n",
        "      xc = xc + t*p\n",
        "      if t>=t1 and t<t2:\n",
        "          break\n",
        "      t1=t2\n",
        "    xc = projection(xc,l,u)\n",
        "    ## Aproximate solution to accelerate\n",
        "    if ssm==1:\n",
        "      xc[xc<tolx] = 0\n",
        "      xs = xc*1\n",
        "      sl = xc-l #slack l\n",
        "      active_set = np.where(sl == 0)[0]\n",
        "      inactive_set = np.where(sl != 0)[0]\n",
        "      if len(inactive_set)>0:\n",
        "        Di = D[inactive_set,:]\n",
        "        x0 = xc[inactive_set]\n",
        "        _, _, xi = map_to_hull(Di,q,x0,tol*10)\n",
        "        if printlevel == 1:\n",
        "          print(len(xi))\n",
        "        # print(len(x))\n",
        "        xs[inactive_set] = xi*1\n",
        "        xs[xs<tolx] = 0\n",
        "        x = projection(xs,l,u)\n",
        "      # print('%d inactive constraints out of %d total\\n',sum(xs>0),n);\n",
        "    else:\n",
        "      x = xc*1\n",
        "    ## change in solution\n",
        "    if np.linalg.norm(x-x_prev) < tol and iter > 1:\n",
        "      stat = 0\n",
        "      print('no improvement in optimal solution')\n",
        "      break\n",
        "    ## maximum iteration\n",
        "    iter+=1\n",
        "    if iter==maxit+1:\n",
        "      print('max iteration reached')\n",
        "\n",
        "  return x,zl,zu,obj,res,iter,stat"
      ],
      "metadata": {
        "id": "QJm0Jq14zvvn"
      },
      "execution_count": 23,
      "outputs": []
    },
    {
      "cell_type": "code",
      "source": [
        "# function to project a point q to the convex hull of D\n",
        "def map_to_hull_pg(D,q,x0,tol=1e-5):\n",
        "  n,d = D.shape\n",
        "  c = -D@q\n",
        "  l = np.zeros(n)\n",
        "  u = np.ones(n)\n",
        "  maxit = 100\n",
        "  ssm = 1\n",
        "  printlevel = 0\n",
        "  tol = 1e-6\n",
        "  tolx = 5e-4\n",
        "  alpha,_,_,_,res,_,stat = bqp_pg(c,D,l,u,x0,maxit,ssm,printlevel,tol,tolx,q)\n",
        "  xp = alpha @ D\n",
        "  dist = np.linalg.norm(xp-q)\n",
        "\n",
        "  return xp, dist, alpha"
      ],
      "metadata": {
        "id": "tRGkxYYjFthy"
      },
      "execution_count": 43,
      "outputs": []
    },
    {
      "cell_type": "code",
      "source": [
        "%%time\n",
        "import numpy as np\n",
        "# fix the seed\n",
        "np.random.seed(1)\n",
        "maxit = 100\n",
        "ssm = 1\n",
        "printlevel = 0\n",
        "tol = 1e-6\n",
        "tolx = 5e-4\n",
        "n = 50000\n",
        "d = 64\n",
        "D = np.random.randn(n,d)\n",
        "q = np.random.randn(d)+1\n",
        "c = -D@q\n",
        "l = np.zeros(n)\n",
        "u = np.ones(n)"
      ],
      "metadata": {
        "id": "hn2rhrqNTNIt"
      },
      "execution_count": null,
      "outputs": []
    },
    {
      "cell_type": "code",
      "source": [
        "%%time\n",
        "xopt, dist, alpha = map_to_hull(D,q,np.zeros(n),1e-5)\n",
        "print(\"dist: \",dist)\n",
        "print(np.min(alpha))\n",
        "print(np.sum(alpha))"
      ],
      "metadata": {
        "id": "qyXHRTGxzmni"
      },
      "execution_count": null,
      "outputs": []
    },
    {
      "cell_type": "code",
      "source": [
        "%%time\n",
        "xopt, dist, alpha = map_to_hull_pg(D,q,np.zeros(n),1e-5)\n",
        "print(\"dist: \",dist)\n",
        "print(np.min(alpha))\n",
        "print(np.sum(alpha))"
      ],
      "metadata": {
        "id": "HdrpZL7bHIqH"
      },
      "execution_count": null,
      "outputs": []
    },
    {
      "cell_type": "code",
      "source": [
        "%%time\n",
        "x0 = np.zeros(n)\n",
        "# x0(1:numel(xopt)) = xopt;\n",
        "xopt,_,_,_,res,_,stat = bqp_pg(c,D,l,u,x0,maxit,ssm,printlevel,tol,tolx,q)\n",
        "print(res)\n",
        "print(stat)\n",
        "dist = np.linalg.norm(xopt@D-q)\n",
        "print(\"dist: \",dist)\n",
        "print(np.min(xopt))\n",
        "print(np.sum(xopt))"
      ],
      "metadata": {
        "id": "fPBEBUMzzsXa"
      },
      "execution_count": null,
      "outputs": []
    },
    {
      "cell_type": "code",
      "source": [],
      "metadata": {
        "id": "fN9GKt-c68Tr"
      },
      "execution_count": null,
      "outputs": []
    },
    {
      "cell_type": "code",
      "source": [
        "%%time\n",
        "# function to project a point q to the convex hull of D using the sketching method\n",
        "def map_to_hull_sketch(D,q,nsketch):\n",
        "  m,n = D.shape\n",
        "  # alpha_torch = torch.zeros(0)\n",
        "  alpha_np = np.zeros(0)\n",
        "  mysize = 0\n",
        "  maxit = 1\n",
        "  ssm = 1\n",
        "  printlevel = 0\n",
        "  tol = 1e-5\n",
        "  tolx = 5e-4\n",
        "  for iter in range(nsketch):\n",
        "    m_s = int(m/nsketch*(iter+1))\n",
        "    alpha_np = np.pad(alpha_np, (0, m_s-mysize), 'constant')\n",
        "    mysize = m_s*1\n",
        "    Ds = D[0:mysize,:]\n",
        "    # x0 = alpha_np*1\n",
        "    l = np.zeros(mysize)\n",
        "    u = np.ones(mysize)\n",
        "    c = -Ds@q\n",
        "    alpha_np,_,_,_,res,_,stat = bqp_pg(c,Ds,l,u,alpha_np,maxit,ssm,printlevel,tol,tolx,q)\n",
        "\n",
        "  xp = alpha_np @ D\n",
        "  dist = np.linalg.norm(q-xp)\n",
        "  return xp, dist, alpha_np"
      ],
      "metadata": {
        "id": "xyDelFON1aFo"
      },
      "execution_count": null,
      "outputs": []
    },
    {
      "cell_type": "code",
      "source": [
        "%%time\n",
        "xp, dist, alpha = map_to_hull_sketch(D,q,3)\n",
        "print(dist)\n",
        "print(np.min(alpha))\n",
        "print(np.sum(alpha))"
      ],
      "metadata": {
        "id": "dHCq3A80T38p"
      },
      "execution_count": null,
      "outputs": []
    }
  ]
}